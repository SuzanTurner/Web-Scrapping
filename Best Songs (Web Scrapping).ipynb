{
 "cells": [
  {
   "cell_type": "code",
   "execution_count": 1,
   "id": "40cee384-174a-470d-966f-b5f05dfd0800",
   "metadata": {},
   "outputs": [],
   "source": [
    "import requests\n",
    "from bs4 import BeautifulSoup"
   ]
  },
  {
   "cell_type": "code",
   "execution_count": 4,
   "id": "5ab4006b-5c62-494a-9c39-e63c3cc1ffaa",
   "metadata": {},
   "outputs": [
    {
     "name": "stdout",
     "output_type": "stream",
     "text": [
      "200\n"
     ]
    }
   ],
   "source": [
    "response = requests.get(url = \"https://www.rollingstone.com/music/music-lists/best-songs-of-all-time-1224767\")\n",
    "response.raise_for_status()\n",
    "print(response.status_code)\n",
    "    "
   ]
  },
  {
   "cell_type": "code",
   "execution_count": 33,
   "id": "4a61239e-36c9-4697-ba08-e25688f55bf6",
   "metadata": {},
   "outputs": [],
   "source": [
    "resp = response.text\n",
    "#print(resp)"
   ]
  },
  {
   "cell_type": "code",
   "execution_count": 19,
   "id": "e378ecca-4469-454f-86cb-ca73d990706f",
   "metadata": {},
   "outputs": [],
   "source": [
    "soup = BeautifulSoup(resp, 'html.parser')"
   ]
  },
  {
   "cell_type": "code",
   "execution_count": 32,
   "id": "00022460-9828-4379-b413-95fbfcbde7bf",
   "metadata": {},
   "outputs": [
    {
     "name": "stdout",
     "output_type": "stream",
     "text": [
      "Migos feat. Lil Uzi Vert, ‘Bad and Boujee’\n"
     ]
    }
   ],
   "source": [
    "songs = soup.find_all(name = \"h2\")\n",
    "song = [s.get_text() for s in songs]\n",
    "print(song[49])"
   ]
  },
  {
   "cell_type": "code",
   "execution_count": 36,
   "id": "b57ed9e4-9830-4ebf-8530-937cbf7bc275",
   "metadata": {},
   "outputs": [],
   "source": [
    "import pyttsx3"
   ]
  },
  {
   "cell_type": "code",
   "execution_count": 58,
   "id": "f789a52f-dbe1-4a5e-a4af-4cfcb48f54c0",
   "metadata": {},
   "outputs": [
    {
     "name": "stderr",
     "output_type": "stream",
     "text": [
      "Traceback (most recent call last):\n",
      "  File \"C:\\Users\\hp\\AppData\\Local\\Programs\\Python\\Python312\\Lib\\site-packages\\comtypes\\client\\_events.py\", line 125, in error_printer\n",
      "    return func(*args, **kw)\n",
      "           ^^^^^^^^^^^^^^^^^\n",
      "  File \"C:\\Users\\hp\\AppData\\Local\\Programs\\Python\\Python312\\Lib\\site-packages\\pyttsx3\\drivers\\sapi5.py\", line 177, in _ISpeechVoiceEvents_EndStream\n",
      "    d.endLoop() # hangs if you dont have this\n",
      "    ^^^^^^^^^\n",
      "ReferenceError: weakly-referenced object no longer exists\n"
     ]
    }
   ],
   "source": [
    "engine = pyttsx3.Engine()\n",
    "engine.setProperty('rate', 150)\n",
    "engine.say(\"Hey Durvie Baby\")\n",
    "engine.runAndWait()"
   ]
  },
  {
   "cell_type": "code",
   "execution_count": 50,
   "id": "412ee556-7aef-4ae9-b401-4008a5a0418a",
   "metadata": {},
   "outputs": [],
   "source": [
    "import tkinter\n",
    "import random"
   ]
  },
  {
   "cell_type": "code",
   "execution_count": 59,
   "id": "448bf4a3-235d-4df6-839a-cca32591581c",
   "metadata": {},
   "outputs": [],
   "source": [
    "window = tkinter.Tk()\n",
    "window.minsize(height = 200, width = 185)\n",
    "window.title(\"Songs\")\n",
    "window.config(bg = \"#A7C7E7\")\n",
    "\n",
    "head = tkinter.Label()\n",
    "head.config(text = \"Random Songs\", font = (\"Helvetica\", 15, \"bold\"), padx = 5, pady = 10, highlightthickness = 2, highlightbackground = \"black\", bg = \"#C3D8EF\")\n",
    "head.grid(row = 1, column = 1, padx = 10, pady = 10)\n",
    "\n",
    "n = random.randint(0,50)\n",
    "\n",
    "s = tkinter.Label()\n",
    "s.config(text = f\"{song[n]}\", font = (\"Helvetica\", 11, \"bold\"), padx = 5, pady = 10, highlightthickness = 2, highlightbackground = \"black\", bg = \"#C3D8EF\")\n",
    "s.grid(row = 2, column = 1, padx = 10, pady = 10)\n",
    "engine.say(song[n])\n",
    "\n",
    "def shuf():\n",
    "    n = random.randint(0,50)\n",
    "    s.config(text = f\"{song[n]}\", font = (\"Helvetica\", 11, \"bold\"), padx = 5, pady = 10, highlightthickness = 2, highlightbackground = \"black\", bg = \"#C3D8EF\")\n",
    "    s.grid(row = 2, column = 1, padx = 10, pady = 10)\n",
    "    engine.say(song[n])\n",
    "    \n",
    "\n",
    "shuffle = tkinter.Button(command = shuf)\n",
    "shuffle.config(text = \"Shuffle\", font = (\"Helvetica\", 11, \"bold\"), padx = 5, pady = 10)\n",
    "shuffle.grid(row = 3, column = 1, padx = 5, pady = 5)\n",
    "\n",
    "engine.runAndWait()\n",
    "\n",
    "window.mainloop()"
   ]
  },
  {
   "cell_type": "code",
   "execution_count": null,
   "id": "7af05f44-28a4-4a0a-8c6b-43677ffb7849",
   "metadata": {},
   "outputs": [],
   "source": []
  }
 ],
 "metadata": {
  "kernelspec": {
   "display_name": "Python 3 (ipykernel)",
   "language": "python",
   "name": "python3"
  },
  "language_info": {
   "codemirror_mode": {
    "name": "ipython",
    "version": 3
   },
   "file_extension": ".py",
   "mimetype": "text/x-python",
   "name": "python",
   "nbconvert_exporter": "python",
   "pygments_lexer": "ipython3",
   "version": "3.12.6"
  }
 },
 "nbformat": 4,
 "nbformat_minor": 5
}

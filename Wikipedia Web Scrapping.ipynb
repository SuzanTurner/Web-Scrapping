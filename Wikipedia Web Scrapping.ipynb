{
 "cells": [
  {
   "cell_type": "code",
   "execution_count": 10,
   "id": "76a4c324-ccd0-472a-bf60-105a8131203c",
   "metadata": {},
   "outputs": [],
   "source": [
    "import selenium\n",
    "from selenium import webdriver\n",
    "from selenium.webdriver.common.by import By\n",
    "from selenium.webdriver.common.keys import Keys\n"
   ]
  },
  {
   "cell_type": "code",
   "execution_count": 18,
   "id": "6b937cfe-c88c-43ee-b698-018b0551cf20",
   "metadata": {},
   "outputs": [
    {
     "name": "stdout",
     "output_type": "stream",
     "text": [
      "6,922,062\n"
     ]
    },
    {
     "ename": "ElementNotInteractableException",
     "evalue": "Message: element not interactable\n  (Session info: chrome=131.0.6778.109)\nStacktrace:\n\tGetHandleVerifier [0x00007FF6B6C86CF5+28821]\n\t(No symbol) [0x00007FF6B6BF3880]\n\t(No symbol) [0x00007FF6B6A955B9]\n\t(No symbol) [0x00007FF6B6AE2D14]\n\t(No symbol) [0x00007FF6B6AE0DAD]\n\t(No symbol) [0x00007FF6B6B0F2FA]\n\t(No symbol) [0x00007FF6B6ADC3F6]\n\t(No symbol) [0x00007FF6B6B0F510]\n\t(No symbol) [0x00007FF6B6B2F412]\n\t(No symbol) [0x00007FF6B6B0F0A3]\n\t(No symbol) [0x00007FF6B6ADA778]\n\t(No symbol) [0x00007FF6B6ADB8E1]\n\tGetHandleVerifier [0x00007FF6B6FBFCED+3408013]\n\tGetHandleVerifier [0x00007FF6B6FD745F+3504127]\n\tGetHandleVerifier [0x00007FF6B6FCB63D+3455453]\n\tGetHandleVerifier [0x00007FF6B6D4BDFB+835995]\n\t(No symbol) [0x00007FF6B6BFEB9F]\n\t(No symbol) [0x00007FF6B6BFA854]\n\t(No symbol) [0x00007FF6B6BFA9ED]\n\t(No symbol) [0x00007FF6B6BEA1D9]\n\tBaseThreadInitThunk [0x00007FFA8C0D259D+29]\n\tRtlUserThreadStart [0x00007FFA8E32AF38+40]\n",
     "output_type": "error",
     "traceback": [
      "\u001b[1;31m---------------------------------------------------------------------------\u001b[0m",
      "\u001b[1;31mElementNotInteractableException\u001b[0m           Traceback (most recent call last)",
      "Cell \u001b[1;32mIn[18], line 15\u001b[0m\n\u001b[0;32m     13\u001b[0m search \u001b[38;5;241m=\u001b[39m driver\u001b[38;5;241m.\u001b[39mfind_element(By\u001b[38;5;241m.\u001b[39mXPATH, \u001b[38;5;124m'\u001b[39m\u001b[38;5;124m//*[@id=\u001b[39m\u001b[38;5;124m\"\u001b[39m\u001b[38;5;124mp-search\u001b[39m\u001b[38;5;124m\"\u001b[39m\u001b[38;5;124m]/a/span[1]\u001b[39m\u001b[38;5;124m'\u001b[39m)\n\u001b[0;32m     14\u001b[0m search\u001b[38;5;241m.\u001b[39mclick()\n\u001b[1;32m---> 15\u001b[0m \u001b[43msearch\u001b[49m\u001b[38;5;241;43m.\u001b[39;49m\u001b[43msend_keys\u001b[49m\u001b[43m(\u001b[49m\u001b[38;5;124;43m\"\u001b[39;49m\u001b[38;5;124;43mThe Police\u001b[39;49m\u001b[38;5;124;43m\"\u001b[39;49m\u001b[43m,\u001b[49m\u001b[43m \u001b[49m\u001b[43mKeys\u001b[49m\u001b[38;5;241;43m.\u001b[39;49m\u001b[43mENTER\u001b[49m\u001b[43m)\u001b[49m\n\u001b[0;32m     17\u001b[0m driver\u001b[38;5;241m.\u001b[39mquit()\n",
      "File \u001b[1;32m~\\AppData\\Local\\Programs\\Python\\Python312\\Lib\\site-packages\\selenium\\webdriver\\remote\\webelement.py:231\u001b[0m, in \u001b[0;36mWebElement.send_keys\u001b[1;34m(self, *value)\u001b[0m\n\u001b[0;32m    228\u001b[0m             remote_files\u001b[38;5;241m.\u001b[39mappend(\u001b[38;5;28mself\u001b[39m\u001b[38;5;241m.\u001b[39m_upload(file))\n\u001b[0;32m    229\u001b[0m         value \u001b[38;5;241m=\u001b[39m \u001b[38;5;28mtuple\u001b[39m(\u001b[38;5;124m\"\u001b[39m\u001b[38;5;130;01m\\n\u001b[39;00m\u001b[38;5;124m\"\u001b[39m\u001b[38;5;241m.\u001b[39mjoin(remote_files))\n\u001b[1;32m--> 231\u001b[0m \u001b[38;5;28;43mself\u001b[39;49m\u001b[38;5;241;43m.\u001b[39;49m\u001b[43m_execute\u001b[49m\u001b[43m(\u001b[49m\n\u001b[0;32m    232\u001b[0m \u001b[43m    \u001b[49m\u001b[43mCommand\u001b[49m\u001b[38;5;241;43m.\u001b[39;49m\u001b[43mSEND_KEYS_TO_ELEMENT\u001b[49m\u001b[43m,\u001b[49m\u001b[43m \u001b[49m\u001b[43m{\u001b[49m\u001b[38;5;124;43m\"\u001b[39;49m\u001b[38;5;124;43mtext\u001b[39;49m\u001b[38;5;124;43m\"\u001b[39;49m\u001b[43m:\u001b[49m\u001b[43m \u001b[49m\u001b[38;5;124;43m\"\u001b[39;49m\u001b[38;5;124;43m\"\u001b[39;49m\u001b[38;5;241;43m.\u001b[39;49m\u001b[43mjoin\u001b[49m\u001b[43m(\u001b[49m\u001b[43mkeys_to_typing\u001b[49m\u001b[43m(\u001b[49m\u001b[43mvalue\u001b[49m\u001b[43m)\u001b[49m\u001b[43m)\u001b[49m\u001b[43m,\u001b[49m\u001b[43m \u001b[49m\u001b[38;5;124;43m\"\u001b[39;49m\u001b[38;5;124;43mvalue\u001b[39;49m\u001b[38;5;124;43m\"\u001b[39;49m\u001b[43m:\u001b[49m\u001b[43m \u001b[49m\u001b[43mkeys_to_typing\u001b[49m\u001b[43m(\u001b[49m\u001b[43mvalue\u001b[49m\u001b[43m)\u001b[49m\u001b[43m}\u001b[49m\n\u001b[0;32m    233\u001b[0m \u001b[43m\u001b[49m\u001b[43m)\u001b[49m\n",
      "File \u001b[1;32m~\\AppData\\Local\\Programs\\Python\\Python312\\Lib\\site-packages\\selenium\\webdriver\\remote\\webelement.py:395\u001b[0m, in \u001b[0;36mWebElement._execute\u001b[1;34m(self, command, params)\u001b[0m\n\u001b[0;32m    393\u001b[0m     params \u001b[38;5;241m=\u001b[39m {}\n\u001b[0;32m    394\u001b[0m params[\u001b[38;5;124m\"\u001b[39m\u001b[38;5;124mid\u001b[39m\u001b[38;5;124m\"\u001b[39m] \u001b[38;5;241m=\u001b[39m \u001b[38;5;28mself\u001b[39m\u001b[38;5;241m.\u001b[39m_id\n\u001b[1;32m--> 395\u001b[0m \u001b[38;5;28;01mreturn\u001b[39;00m \u001b[38;5;28;43mself\u001b[39;49m\u001b[38;5;241;43m.\u001b[39;49m\u001b[43m_parent\u001b[49m\u001b[38;5;241;43m.\u001b[39;49m\u001b[43mexecute\u001b[49m\u001b[43m(\u001b[49m\u001b[43mcommand\u001b[49m\u001b[43m,\u001b[49m\u001b[43m \u001b[49m\u001b[43mparams\u001b[49m\u001b[43m)\u001b[49m\n",
      "File \u001b[1;32m~\\AppData\\Local\\Programs\\Python\\Python312\\Lib\\site-packages\\selenium\\webdriver\\remote\\webdriver.py:384\u001b[0m, in \u001b[0;36mWebDriver.execute\u001b[1;34m(self, driver_command, params)\u001b[0m\n\u001b[0;32m    382\u001b[0m response \u001b[38;5;241m=\u001b[39m \u001b[38;5;28mself\u001b[39m\u001b[38;5;241m.\u001b[39mcommand_executor\u001b[38;5;241m.\u001b[39mexecute(driver_command, params)\n\u001b[0;32m    383\u001b[0m \u001b[38;5;28;01mif\u001b[39;00m response:\n\u001b[1;32m--> 384\u001b[0m     \u001b[38;5;28;43mself\u001b[39;49m\u001b[38;5;241;43m.\u001b[39;49m\u001b[43merror_handler\u001b[49m\u001b[38;5;241;43m.\u001b[39;49m\u001b[43mcheck_response\u001b[49m\u001b[43m(\u001b[49m\u001b[43mresponse\u001b[49m\u001b[43m)\u001b[49m\n\u001b[0;32m    385\u001b[0m     response[\u001b[38;5;124m\"\u001b[39m\u001b[38;5;124mvalue\u001b[39m\u001b[38;5;124m\"\u001b[39m] \u001b[38;5;241m=\u001b[39m \u001b[38;5;28mself\u001b[39m\u001b[38;5;241m.\u001b[39m_unwrap_value(response\u001b[38;5;241m.\u001b[39mget(\u001b[38;5;124m\"\u001b[39m\u001b[38;5;124mvalue\u001b[39m\u001b[38;5;124m\"\u001b[39m, \u001b[38;5;28;01mNone\u001b[39;00m))\n\u001b[0;32m    386\u001b[0m     \u001b[38;5;28;01mreturn\u001b[39;00m response\n",
      "File \u001b[1;32m~\\AppData\\Local\\Programs\\Python\\Python312\\Lib\\site-packages\\selenium\\webdriver\\remote\\errorhandler.py:232\u001b[0m, in \u001b[0;36mErrorHandler.check_response\u001b[1;34m(self, response)\u001b[0m\n\u001b[0;32m    230\u001b[0m         alert_text \u001b[38;5;241m=\u001b[39m value[\u001b[38;5;124m\"\u001b[39m\u001b[38;5;124malert\u001b[39m\u001b[38;5;124m\"\u001b[39m]\u001b[38;5;241m.\u001b[39mget(\u001b[38;5;124m\"\u001b[39m\u001b[38;5;124mtext\u001b[39m\u001b[38;5;124m\"\u001b[39m)\n\u001b[0;32m    231\u001b[0m     \u001b[38;5;28;01mraise\u001b[39;00m exception_class(message, screen, stacktrace, alert_text)  \u001b[38;5;66;03m# type: ignore[call-arg]  # mypy is not smart enough here\u001b[39;00m\n\u001b[1;32m--> 232\u001b[0m \u001b[38;5;28;01mraise\u001b[39;00m exception_class(message, screen, stacktrace)\n",
      "\u001b[1;31mElementNotInteractableException\u001b[0m: Message: element not interactable\n  (Session info: chrome=131.0.6778.109)\nStacktrace:\n\tGetHandleVerifier [0x00007FF6B6C86CF5+28821]\n\t(No symbol) [0x00007FF6B6BF3880]\n\t(No symbol) [0x00007FF6B6A955B9]\n\t(No symbol) [0x00007FF6B6AE2D14]\n\t(No symbol) [0x00007FF6B6AE0DAD]\n\t(No symbol) [0x00007FF6B6B0F2FA]\n\t(No symbol) [0x00007FF6B6ADC3F6]\n\t(No symbol) [0x00007FF6B6B0F510]\n\t(No symbol) [0x00007FF6B6B2F412]\n\t(No symbol) [0x00007FF6B6B0F0A3]\n\t(No symbol) [0x00007FF6B6ADA778]\n\t(No symbol) [0x00007FF6B6ADB8E1]\n\tGetHandleVerifier [0x00007FF6B6FBFCED+3408013]\n\tGetHandleVerifier [0x00007FF6B6FD745F+3504127]\n\tGetHandleVerifier [0x00007FF6B6FCB63D+3455453]\n\tGetHandleVerifier [0x00007FF6B6D4BDFB+835995]\n\t(No symbol) [0x00007FF6B6BFEB9F]\n\t(No symbol) [0x00007FF6B6BFA854]\n\t(No symbol) [0x00007FF6B6BFA9ED]\n\t(No symbol) [0x00007FF6B6BEA1D9]\n\tBaseThreadInitThunk [0x00007FFA8C0D259D+29]\n\tRtlUserThreadStart [0x00007FFA8E32AF38+40]\n"
     ]
    }
   ],
   "source": [
    "chrome_options = webdriver.ChromeOptions()\n",
    "chrome_options.add_experimental_option(\"detach\", True)\n",
    "\n",
    "driver = webdriver.Chrome(chrome_options)\n",
    "driver.get(\"https://en.wikipedia.org/wiki/Main_Page\")\n",
    "\n",
    "number = driver.find_element(By.CSS_SELECTOR, \"#articlecount a\")\n",
    "print(number.text)\n",
    "\n",
    "#link = driver.find_element(By.LINK_TEXT, \"Shovel Knight Showdown\")\n",
    "#link.click()\n",
    "\n",
    "search = driver.find_element(By.XPATH, '//*[@id=\"p-search\"]/a/span[1]')\n",
    "search.click()\n",
    "search.send_keys(\"The Police\", Keys.ENTER)\n",
    "\n",
    "driver.quit()"
   ]
  },
  {
   "cell_type": "code",
   "execution_count": 3,
   "id": "f7365515-d3a0-47ee-8807-40b0d3d1a9f2",
   "metadata": {},
   "outputs": [],
   "source": [
    "import requests\n",
    "from bs4 import BeautifulSoup"
   ]
  },
  {
   "cell_type": "code",
   "execution_count": 4,
   "id": "e00ff22d-5f76-4d1d-9d36-29ae45056412",
   "metadata": {},
   "outputs": [
    {
     "name": "stdout",
     "output_type": "stream",
     "text": [
      "<bound method Response.raise_for_status of <Response [200]>>\n"
     ]
    }
   ],
   "source": [
    "response = requests.get(\"https://en.wikipedia.org/wiki/Main_Page\")\n",
    "print(response.raise_for_status)"
   ]
  },
  {
   "cell_type": "code",
   "execution_count": 5,
   "id": "abdd877c-4ff1-4f53-961d-5f5b85d2a19b",
   "metadata": {},
   "outputs": [],
   "source": [
    "resp = response.text\n",
    "#print(resp)"
   ]
  },
  {
   "cell_type": "code",
   "execution_count": 6,
   "id": "ebcf7649-3f03-4d74-b124-10e5ec0ad361",
   "metadata": {},
   "outputs": [
    {
     "name": "stdout",
     "output_type": "stream",
     "text": [
      "6,922,021 \n",
      " /wiki/Special:Statistics\n"
     ]
    }
   ],
   "source": [
    "soup = BeautifulSoup(resp, \"html.parser\")\n",
    "number = soup.find(\"a\", href = \"/wiki/Special:Statistics\")\n",
    "link = number.get(\"href\")\n",
    "print(number.get_text(),\"\\n\", link)"
   ]
  },
  {
   "cell_type": "code",
   "execution_count": null,
   "id": "7be9322a-50a0-4d7e-be83-f17487eb2141",
   "metadata": {},
   "outputs": [],
   "source": []
  },
  {
   "cell_type": "code",
   "execution_count": 7,
   "id": "1f756e3b-6bc0-4782-88ce-3b7b767768b9",
   "metadata": {},
   "outputs": [
    {
     "name": "stdout",
     "output_type": "stream",
     "text": [
      "From today's featured article\n"
     ]
    }
   ],
   "source": [
    "article = soup.find(\"h2\", class_ = \"mp-h2\")\n",
    "print(article.get_text())"
   ]
  },
  {
   "cell_type": "code",
   "execution_count": 8,
   "id": "e626fb01-01a5-4353-bf1f-6ae74bffa3c8",
   "metadata": {},
   "outputs": [
    {
     "name": "stdout",
     "output_type": "stream",
     "text": [
      "Shovel Knight Showdown is a 2019 fighting video game developed and published by Yacht Club Games. It is an add-on to the platform game Shovel Knight. Players battle using one fighter among twenty characters, each with various movesets and fighting styles. Modes include \"Treasure Clash\", to collect the most gems, and a \"free for all\" battle to death. In story mode, a single player battles against AI-controlled opponents across several stages before facing a boss. Completing this mode with each fighter allows the player to unlock new stages and characters. Yacht Club Games envisioned Showdown as a small minigame similar to modes in Mega Man 7 (1995) and Super Mario Bros. 3 (1988). The developers gradually built a more expansive title which they compared to a party game. Showdown was released for Windows, macOS, Linux, PlayStation 3, PlayStation 4, Nintendo Switch, Xbox One, and Wii U on December 10, 2019. It received average reviews on release, with praise towards its characters and multiplayer gameplay, but many reviewers criticized the single-player mode for its difficulty balancing. (Full article...)\n",
      "\n",
      "Recently featured: \n",
      "Golding Bird\n",
      "\"You Belong with Me\"\n",
      "Wilfred Arthur\n",
      "\n",
      "\n",
      "Archive\n",
      "By email\n",
      "More featured articles\n",
      "About\n",
      "\n"
     ]
    }
   ],
   "source": [
    "text = soup.find(\"div\", class_ = \"mp-contains-float\")\n",
    "print(text.get_text())"
   ]
  },
  {
   "cell_type": "code",
   "execution_count": 32,
   "id": "7c809133-176b-402c-b101-e8cf9a5a1f99",
   "metadata": {},
   "outputs": [
    {
     "name": "stdout",
     "output_type": "stream",
     "text": [
      "Shovel Knight Showdown \n",
      "/wiki/Shovel_Knight_Showdown\n",
      "Title: Shovel Knight Showdown\n"
     ]
    }
   ],
   "source": [
    "nks = soup.find(\"a\", href = \"/wiki/Shovel_Knight_Showdown\")\n",
    "nks_link = nks.get(\"href\")\n",
    "nks_title = nks.get(\"title\")\n",
    "print(nks.get_text(), \"\\n\"+ nks_link+\"\\n\"+\"Title:\", nks_title)"
   ]
  },
  {
   "cell_type": "code",
   "execution_count": null,
   "id": "ce24aa5f-16b0-42e4-87ec-d9387d552fbc",
   "metadata": {},
   "outputs": [],
   "source": []
  }
 ],
 "metadata": {
  "kernelspec": {
   "display_name": "Python 3 (ipykernel)",
   "language": "python",
   "name": "python3"
  },
  "language_info": {
   "codemirror_mode": {
    "name": "ipython",
    "version": 3
   },
   "file_extension": ".py",
   "mimetype": "text/x-python",
   "name": "python",
   "nbconvert_exporter": "python",
   "pygments_lexer": "ipython3",
   "version": "3.12.6"
  }
 },
 "nbformat": 4,
 "nbformat_minor": 5
}

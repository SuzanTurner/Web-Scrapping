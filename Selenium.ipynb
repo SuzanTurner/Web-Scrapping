{
 "cells": [
  {
   "cell_type": "code",
   "execution_count": 1,
   "id": "41b8532f-53b7-48b3-8b7e-932f1aebf5aa",
   "metadata": {},
   "outputs": [],
   "source": [
    "import selenium"
   ]
  },
  {
   "cell_type": "code",
   "execution_count": 5,
   "id": "ebae2e7c-cadf-4722-9c2d-e3e43951c06c",
   "metadata": {},
   "outputs": [],
   "source": [
    "from selenium import webdriver\n",
    "from selenium.webdriver.common.by import By"
   ]
  },
  {
   "cell_type": "code",
   "execution_count": 3,
   "id": "74700812-8b7e-434d-8e96-01fb4d54179c",
   "metadata": {},
   "outputs": [],
   "source": [
    "driver = webdriver.Chrome()"
   ]
  },
  {
   "cell_type": "code",
   "execution_count": 4,
   "id": "228e924d-496a-4dd2-9ad6-6078188d3f1f",
   "metadata": {},
   "outputs": [],
   "source": [
    "driver.get(url = \"https://www.bbc.com/\")"
   ]
  },
  {
   "cell_type": "code",
   "execution_count": 7,
   "id": "66129a2b-2a01-4eda-a6ce-6824809fafac",
   "metadata": {},
   "outputs": [
    {
     "name": "stdout",
     "output_type": "stream",
     "text": [
      "There was a snarl of cars when we arrived. We could hear chanting. Someone was waving a rebel flag. Overnight news that Damascus had fallen and Syria's president had fled spurred Syrians in Lebanon to rush to Masnaa, the border crossing closest to their capital.\n"
     ]
    }
   ],
   "source": [
    "article = driver.find_element(By.XPATH, '//*[@id=\"main-content\"]/article/div[3]/p[1]')\n",
    "print(article.text)\n"
   ]
  },
  {
   "cell_type": "code",
   "execution_count": null,
   "id": "6f9ba7cd-6d9c-4643-a387-ea2a538d01e6",
   "metadata": {},
   "outputs": [],
   "source": []
  },
  {
   "cell_type": "code",
   "execution_count": null,
   "id": "75f684c1-d42e-4df5-b364-65c72997cf0b",
   "metadata": {},
   "outputs": [],
   "source": []
  }
 ],
 "metadata": {
  "kernelspec": {
   "display_name": "Python 3 (ipykernel)",
   "language": "python",
   "name": "python3"
  },
  "language_info": {
   "codemirror_mode": {
    "name": "ipython",
    "version": 3
   },
   "file_extension": ".py",
   "mimetype": "text/x-python",
   "name": "python",
   "nbconvert_exporter": "python",
   "pygments_lexer": "ipython3",
   "version": "3.12.6"
  }
 },
 "nbformat": 4,
 "nbformat_minor": 5
}

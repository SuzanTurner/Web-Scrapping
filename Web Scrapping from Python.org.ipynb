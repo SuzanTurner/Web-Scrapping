{
 "cells": [
  {
   "cell_type": "code",
   "execution_count": 1,
   "id": "62ea7571-35bc-4b3c-b883-6d8a13c6b94b",
   "metadata": {},
   "outputs": [],
   "source": [
    "import selenium\n",
    "from selenium import webdriver\n",
    "from selenium.webdriver.common.by import By"
   ]
  },
  {
   "cell_type": "code",
   "execution_count": 19,
   "id": "aa345d06-6ece-4352-b66c-3124dd71e6b8",
   "metadata": {},
   "outputs": [
    {
     "name": "stdout",
     "output_type": "stream",
     "text": [
      "Upcoming Events\n",
      "PyBodensee Yearend Meetup\n",
      "Python Meeting Düsseldorf\n",
      "Python devroom @ FOSDEM 2025\n",
      "Python Barcamp Karlsruhe 2025\n",
      "Django Girls Koforidua\n"
     ]
    }
   ],
   "source": [
    "driver = webdriver.Chrome()\n",
    "driver.get(\"https://www.python.org/\")\n",
    "\n",
    "title = driver.find_element(By.XPATH, '//*[@id=\"content\"]/div/section/div[3]/div[2]/div/h2')\n",
    "print(title.text)\n",
    "\n",
    "times = driver.find_elements(By.CSS_SELECTOR, \".event-widget time\")\n",
    "time = []\n",
    "for t in times:\n",
    "    time.append(t.text)\n",
    "\n",
    "names = driver.find_elements(By.CSS_SELECTOR, \".event-widget li a\")\n",
    "name = []\n",
    "for n in names:\n",
    "    name.append(n.text)\n",
    "\n",
    "d = dict(zip(time, name))\n",
    "for i in d:\n",
    "    print(d[i])\n",
    "    \n",
    "driver.quit()\n"
   ]
  },
  {
   "cell_type": "code",
   "execution_count": null,
   "id": "335bd877-8a6d-4ff1-9536-fc92419be391",
   "metadata": {},
   "outputs": [],
   "source": []
  }
 ],
 "metadata": {
  "kernelspec": {
   "display_name": "Python 3 (ipykernel)",
   "language": "python",
   "name": "python3"
  },
  "language_info": {
   "codemirror_mode": {
    "name": "ipython",
    "version": 3
   },
   "file_extension": ".py",
   "mimetype": "text/x-python",
   "name": "python",
   "nbconvert_exporter": "python",
   "pygments_lexer": "ipython3",
   "version": "3.12.6"
  }
 },
 "nbformat": 4,
 "nbformat_minor": 5
}

{
 "cells": [
  {
   "cell_type": "code",
   "execution_count": 1,
   "id": "5d7ff5fc-6d0f-41de-952e-cf881c5562db",
   "metadata": {},
   "outputs": [],
   "source": [
    "from bs4 import BeautifulSoup\n",
    "import requests"
   ]
  },
  {
   "cell_type": "code",
   "execution_count": 6,
   "id": "a240b61d-1df3-4a1e-a92a-eef5f2f0ce29",
   "metadata": {},
   "outputs": [],
   "source": [
    "import time"
   ]
  },
  {
   "cell_type": "code",
   "execution_count": 2,
   "id": "0ebed0a9-5a78-4662-b562-287f336fd899",
   "metadata": {},
   "outputs": [
    {
     "name": "stdout",
     "output_type": "stream",
     "text": [
      "<bound method Response.raise_for_status of <Response [200]>>\n"
     ]
    }
   ],
   "source": [
    "response = requests.get(\"https://fast.com/\")\n",
    "print(response.raise_for_status)"
   ]
  },
  {
   "cell_type": "code",
   "execution_count": 4,
   "id": "1f58be03-ad1b-46bf-bda4-2e648bb85343",
   "metadata": {},
   "outputs": [],
   "source": [
    "resp = response.text\n",
    "#print(resp)"
   ]
  },
  {
   "cell_type": "code",
   "execution_count": 5,
   "id": "9f923e9f-129d-4622-81b7-a85040fd7110",
   "metadata": {},
   "outputs": [],
   "source": [
    "soup = BeautifulSoup(resp, \"html.parser\")"
   ]
  },
  {
   "cell_type": "code",
   "execution_count": 13,
   "id": "c72a9f08-b685-4f9a-870f-ed4b4c9a38da",
   "metadata": {},
   "outputs": [
    {
     "name": "stdout",
     "output_type": "stream",
     "text": [
      "<bound method Response.raise_for_status of <Response [200]>>\n",
      "0\n"
     ]
    }
   ],
   "source": [
    "response = requests.get(\"https://fast.com/\")\n",
    "print(response.raise_for_status)\n",
    "\n",
    "test = soup.find(\"div\", id = \"speed-value\")\n",
    "print((test.get_text()).strip())"
   ]
  },
  {
   "cell_type": "code",
   "execution_count": null,
   "id": "48348049-32b1-41c4-9511-51c3e31033c9",
   "metadata": {},
   "outputs": [],
   "source": [
    "<div class=\"speed-results-container stopped\" id=\"speed-value\">8.9</div>"
   ]
  }
 ],
 "metadata": {
  "kernelspec": {
   "display_name": "Python 3 (ipykernel)",
   "language": "python",
   "name": "python3"
  },
  "language_info": {
   "codemirror_mode": {
    "name": "ipython",
    "version": 3
   },
   "file_extension": ".py",
   "mimetype": "text/x-python",
   "name": "python",
   "nbconvert_exporter": "python",
   "pygments_lexer": "ipython3",
   "version": "3.12.6"
  }
 },
 "nbformat": 4,
 "nbformat_minor": 5
}
